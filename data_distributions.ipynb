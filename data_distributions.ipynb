{
 "cells": [
  {
   "cell_type": "markdown",
   "id": "f2d1a284",
   "metadata": {},
   "source": [
    "# FOOD DESERTS"
   ]
  },
  {
   "cell_type": "code",
   "execution_count": 2,
   "id": "88646dd7",
   "metadata": {},
   "outputs": [],
   "source": [
    "import json\n",
    "import pandas as pd\n",
    "import matplotlib.pyplot as plt\n",
    "import seaborn as sns\n",
    "import numpy as np\n",
    "import base64"
   ]
  },
  {
   "cell_type": "code",
   "execution_count": 3,
   "id": "4d6a09ab",
   "metadata": {},
   "outputs": [],
   "source": [
    "# opening food desert \n",
    "with open('data/Cleaned Food Desert Data.csv') as f:\n",
    "    df = pd.read_csv(f)\n",
    "# opening health outcomes\n",
    "with open('data/Cleaned Health Outcomes Data 2.csv') as g:\n",
    "    df2 = pd.read_csv(g)\n",
    "# changing the health outcomes census tract column name to match\n",
    "df2 = df2.rename(columns={\"tract_fips\": \"census_tract\"})\n",
    "# merging both using census tract as key | total: 35253 rows × 146 columns\n",
    "result = pd.merge(df, df2, on=\"census_tract\") # total: 35253 rows × 146 columns"
   ]
  },
  {
   "cell_type": "code",
   "execution_count": 19,
   "id": "7136c413",
   "metadata": {},
   "outputs": [],
   "source": [
    "# filter by desired columns | total: 35253 rows × 8 columns\n",
    "filtered_data = result.filter(['census_tract', 'state_abbr', 'county', 'total_population', 'urban', 'diabetes_crude_prev', 'la_population_1/2', 'la_population_1'])"
   ]
  },
  {
   "cell_type": "code",
   "execution_count": 21,
   "id": "d430ee93",
   "metadata": {},
   "outputs": [
    {
     "data": {
      "text/plain": [
       "array([1, 0])"
      ]
     },
     "execution_count": 21,
     "metadata": {},
     "output_type": "execute_result"
    }
   ],
   "source": [
    "# determine unique values for urban | 1 = true\n",
    "urban_def = df['urban'].unique()\n",
    "urban_def"
   ]
  },
  {
   "cell_type": "code",
   "execution_count": 22,
   "id": "c2c8dbd7",
   "metadata": {},
   "outputs": [
    {
     "data": {
      "text/html": [
       "<div>\n",
       "<style scoped>\n",
       "    .dataframe tbody tr th:only-of-type {\n",
       "        vertical-align: middle;\n",
       "    }\n",
       "\n",
       "    .dataframe tbody tr th {\n",
       "        vertical-align: top;\n",
       "    }\n",
       "\n",
       "    .dataframe thead th {\n",
       "        text-align: right;\n",
       "    }\n",
       "</style>\n",
       "<table border=\"1\" class=\"dataframe\">\n",
       "  <thead>\n",
       "    <tr style=\"text-align: right;\">\n",
       "      <th></th>\n",
       "      <th>census_tract</th>\n",
       "      <th>state_abbr</th>\n",
       "      <th>county</th>\n",
       "      <th>total_population</th>\n",
       "      <th>urban</th>\n",
       "      <th>diabetes_crude_prev</th>\n",
       "      <th>la_population_1/2</th>\n",
       "      <th>la_population_1</th>\n",
       "    </tr>\n",
       "  </thead>\n",
       "  <tbody>\n",
       "    <tr>\n",
       "      <th>0</th>\n",
       "      <td>1001020100</td>\n",
       "      <td>AL</td>\n",
       "      <td>Autauga</td>\n",
       "      <td>1912</td>\n",
       "      <td>1</td>\n",
       "      <td>11.3</td>\n",
       "      <td>1732.225468</td>\n",
       "      <td>1357.480940</td>\n",
       "    </tr>\n",
       "    <tr>\n",
       "      <th>1</th>\n",
       "      <td>1001020200</td>\n",
       "      <td>AL</td>\n",
       "      <td>Autauga</td>\n",
       "      <td>2170</td>\n",
       "      <td>1</td>\n",
       "      <td>14.2</td>\n",
       "      <td>1410.374828</td>\n",
       "      <td>483.429683</td>\n",
       "    </tr>\n",
       "    <tr>\n",
       "      <th>2</th>\n",
       "      <td>1001020300</td>\n",
       "      <td>AL</td>\n",
       "      <td>Autauga</td>\n",
       "      <td>3373</td>\n",
       "      <td>1</td>\n",
       "      <td>11.8</td>\n",
       "      <td>2764.604126</td>\n",
       "      <td>1417.874893</td>\n",
       "    </tr>\n",
       "    <tr>\n",
       "      <th>3</th>\n",
       "      <td>1001020400</td>\n",
       "      <td>AL</td>\n",
       "      <td>Autauga</td>\n",
       "      <td>4386</td>\n",
       "      <td>1</td>\n",
       "      <td>10.8</td>\n",
       "      <td>3651.061015</td>\n",
       "      <td>1363.466885</td>\n",
       "    </tr>\n",
       "    <tr>\n",
       "      <th>4</th>\n",
       "      <td>1001020500</td>\n",
       "      <td>AL</td>\n",
       "      <td>Autauga</td>\n",
       "      <td>10766</td>\n",
       "      <td>1</td>\n",
       "      <td>9.2</td>\n",
       "      <td>7778.396188</td>\n",
       "      <td>2643.095161</td>\n",
       "    </tr>\n",
       "    <tr>\n",
       "      <th>...</th>\n",
       "      <td>...</td>\n",
       "      <td>...</td>\n",
       "      <td>...</td>\n",
       "      <td>...</td>\n",
       "      <td>...</td>\n",
       "      <td>...</td>\n",
       "      <td>...</td>\n",
       "      <td>...</td>\n",
       "    </tr>\n",
       "    <tr>\n",
       "      <th>35248</th>\n",
       "      <td>27013171600</td>\n",
       "      <td>MN</td>\n",
       "      <td>Blue Earth</td>\n",
       "      <td>5023</td>\n",
       "      <td>1</td>\n",
       "      <td>4.5</td>\n",
       "      <td>5023.000022</td>\n",
       "      <td>5023.000022</td>\n",
       "    </tr>\n",
       "    <tr>\n",
       "      <th>35249</th>\n",
       "      <td>27015960101</td>\n",
       "      <td>MN</td>\n",
       "      <td>Brown</td>\n",
       "      <td>2000</td>\n",
       "      <td>1</td>\n",
       "      <td>8.9</td>\n",
       "      <td>2000.000007</td>\n",
       "      <td>1409.638154</td>\n",
       "    </tr>\n",
       "    <tr>\n",
       "      <th>35250</th>\n",
       "      <td>27015960102</td>\n",
       "      <td>MN</td>\n",
       "      <td>Brown</td>\n",
       "      <td>1270</td>\n",
       "      <td>1</td>\n",
       "      <td>9.0</td>\n",
       "      <td>856.925676</td>\n",
       "      <td>78.676375</td>\n",
       "    </tr>\n",
       "    <tr>\n",
       "      <th>35251</th>\n",
       "      <td>27015960200</td>\n",
       "      <td>MN</td>\n",
       "      <td>Brown</td>\n",
       "      <td>4482</td>\n",
       "      <td>1</td>\n",
       "      <td>7.6</td>\n",
       "      <td>3984.920064</td>\n",
       "      <td>2544.475905</td>\n",
       "    </tr>\n",
       "    <tr>\n",
       "      <th>35252</th>\n",
       "      <td>27015960300</td>\n",
       "      <td>MN</td>\n",
       "      <td>Brown</td>\n",
       "      <td>3152</td>\n",
       "      <td>1</td>\n",
       "      <td>8.9</td>\n",
       "      <td>NaN</td>\n",
       "      <td>NaN</td>\n",
       "    </tr>\n",
       "  </tbody>\n",
       "</table>\n",
       "<p>27776 rows × 8 columns</p>\n",
       "</div>"
      ],
      "text/plain": [
       "       census_tract state_abbr      county  total_population  urban  \\\n",
       "0        1001020100         AL     Autauga              1912      1   \n",
       "1        1001020200         AL     Autauga              2170      1   \n",
       "2        1001020300         AL     Autauga              3373      1   \n",
       "3        1001020400         AL     Autauga              4386      1   \n",
       "4        1001020500         AL     Autauga             10766      1   \n",
       "...             ...        ...         ...               ...    ...   \n",
       "35248   27013171600         MN  Blue Earth              5023      1   \n",
       "35249   27015960101         MN       Brown              2000      1   \n",
       "35250   27015960102         MN       Brown              1270      1   \n",
       "35251   27015960200         MN       Brown              4482      1   \n",
       "35252   27015960300         MN       Brown              3152      1   \n",
       "\n",
       "       diabetes_crude_prev  la_population_1/2  la_population_1  \n",
       "0                     11.3        1732.225468      1357.480940  \n",
       "1                     14.2        1410.374828       483.429683  \n",
       "2                     11.8        2764.604126      1417.874893  \n",
       "3                     10.8        3651.061015      1363.466885  \n",
       "4                      9.2        7778.396188      2643.095161  \n",
       "...                    ...                ...              ...  \n",
       "35248                  4.5        5023.000022      5023.000022  \n",
       "35249                  8.9        2000.000007      1409.638154  \n",
       "35250                  9.0         856.925676        78.676375  \n",
       "35251                  7.6        3984.920064      2544.475905  \n",
       "35252                  8.9                NaN              NaN  \n",
       "\n",
       "[27776 rows x 8 columns]"
      ]
     },
     "execution_count": 22,
     "metadata": {},
     "output_type": "execute_result"
    }
   ],
   "source": [
    "# filter out non-urban areas\n",
    "urban_data = filtered_data[filtered_data.urban != 0]\n",
    "urban_data['urban'].unique() # confirms only urban = 1 is in dataset  \n",
    "urban_data"
   ]
  },
  {
   "cell_type": "markdown",
   "id": "133400cd",
   "metadata": {},
   "source": [
    "## ONE DIMENSIONAL DISTRIBUTIONS"
   ]
  },
  {
   "cell_type": "code",
   "execution_count": 7,
   "id": "0d6b7363",
   "metadata": {},
   "outputs": [
    {
     "data": {
      "text/plain": [
       "array([[<AxesSubplot:title={'center':'total_population'}>]], dtype=object)"
      ]
     },
     "execution_count": 7,
     "metadata": {},
     "output_type": "execute_result"
    },
    {
     "data": {
      "image/png": "[encoded data removed]",
      "text/plain": [
       "<Figure size 432x288 with 1 Axes>"
      ]
     },
     "metadata": {
      "needs_background": "light"
     },
     "output_type": "display_data"
    },
    {
     "data": {
      "image/png": "[encoded data removed]",
      "text/plain": [
       "<Figure size 432x288 with 1 Axes>"
      ]
     },
     "metadata": {
      "needs_background": "light"
     },
     "output_type": "display_data"
    }
   ],
   "source": [
    "urban_data.hist(column='diabetes_crude_prev')\n",
    "urban_data.hist(column='total_population')"
   ]
  },
  {
   "cell_type": "markdown",
   "id": "d311c759",
   "metadata": {},
   "source": [
    "## TWO DIMENSIONAL DISTRIBUTIONS"
   ]
  },
  {
   "cell_type": "code",
   "execution_count": 17,
   "id": "fe414ae6",
   "metadata": {},
   "outputs": [],
   "source": [
    "# correlation between diabetes and urban food deserts \n",
    "# grouping prevelance of diabetes in urban areas by state (INCL state pop)\n",
    "fd = urban_data[['state_abbr', 'diabetes_crude_prev', 'total_population']]\n",
    "fd_totals = fd.groupby('state_abbr').agg(diabetes_prev_total=('diabetes_crude_prev', 'mean'))\n",
    "fd_total_pop = fd.groupby('state_abbr').agg(total_urban_pop=('total_population', 'sum'))"
   ]
  },
  {
   "cell_type": "code",
   "execution_count": 18,
   "id": "53440607",
   "metadata": {},
   "outputs": [
    {
     "data": {
      "text/plain": [
       "<AxesSubplot:xlabel='state_abbr'>"
      ]
     },
     "execution_count": 18,
     "metadata": {},
     "output_type": "execute_result"
    },
    {
     "data": {
      "image/png": "[encoded data removed]",
      "text/plain": [
       "<Figure size 432x288 with 1 Axes>"
      ]
     },
     "metadata": {
      "needs_background": "light"
     },
     "output_type": "display_data"
    },
    {
     "data": {
      "image/png": "[encoded data removed]",
      "text/plain": [
       "<Figure size 432x288 with 1 Axes>"
      ]
     },
     "metadata": {
      "needs_background": "light"
     },
     "output_type": "display_data"
    }
   ],
   "source": [
    "fd_totals.plot.bar()\n",
    "fd_total_pop.plot.bar()"
   ]
  },
  {
   "cell_type": "code",
   "execution_count": 28,
   "id": "d932d397",
   "metadata": {},
   "outputs": [
    {
     "data": {
      "text/html": [
       "<div>\n",
       "<style scoped>\n",
       "    .dataframe tbody tr th:only-of-type {\n",
       "        vertical-align: middle;\n",
       "    }\n",
       "\n",
       "    .dataframe tbody tr th {\n",
       "        vertical-align: top;\n",
       "    }\n",
       "\n",
       "    .dataframe thead th {\n",
       "        text-align: right;\n",
       "    }\n",
       "</style>\n",
       "<table border=\"1\" class=\"dataframe\">\n",
       "  <thead>\n",
       "    <tr style=\"text-align: right;\">\n",
       "      <th></th>\n",
       "      <th>pop_cnt_1</th>\n",
       "      <th>pop_cnt_1_2</th>\n",
       "    </tr>\n",
       "    <tr>\n",
       "      <th>state_abbr</th>\n",
       "      <th></th>\n",
       "      <th></th>\n",
       "    </tr>\n",
       "  </thead>\n",
       "  <tbody>\n",
       "    <tr>\n",
       "      <th>AK</th>\n",
       "      <td>1.642450e+05</td>\n",
       "      <td>3.173623e+05</td>\n",
       "    </tr>\n",
       "    <tr>\n",
       "      <th>AL</th>\n",
       "      <td>1.042435e+06</td>\n",
       "      <td>1.991380e+06</td>\n",
       "    </tr>\n",
       "    <tr>\n",
       "      <th>AR</th>\n",
       "      <td>5.335168e+05</td>\n",
       "      <td>1.130721e+06</td>\n",
       "    </tr>\n",
       "    <tr>\n",
       "      <th>AZ</th>\n",
       "      <td>1.435067e+06</td>\n",
       "      <td>3.623494e+06</td>\n",
       "    </tr>\n",
       "    <tr>\n",
       "      <th>CA</th>\n",
       "      <td>4.821254e+06</td>\n",
       "      <td>1.673535e+07</td>\n",
       "    </tr>\n",
       "    <tr>\n",
       "      <th>CO</th>\n",
       "      <td>1.023537e+06</td>\n",
       "      <td>2.762702e+06</td>\n",
       "    </tr>\n",
       "    <tr>\n",
       "      <th>CT</th>\n",
       "      <td>1.065111e+06</td>\n",
       "      <td>2.124171e+06</td>\n",
       "    </tr>\n",
       "    <tr>\n",
       "      <th>DC</th>\n",
       "      <td>1.274941e+04</td>\n",
       "      <td>1.618841e+05</td>\n",
       "    </tr>\n",
       "    <tr>\n",
       "      <th>DE</th>\n",
       "      <td>2.283973e+05</td>\n",
       "      <td>5.010732e+05</td>\n",
       "    </tr>\n",
       "    <tr>\n",
       "      <th>FL</th>\n",
       "      <td>4.709992e+06</td>\n",
       "      <td>1.107705e+07</td>\n",
       "    </tr>\n",
       "    <tr>\n",
       "      <th>GA</th>\n",
       "      <td>2.885961e+06</td>\n",
       "      <td>5.337548e+06</td>\n",
       "    </tr>\n",
       "    <tr>\n",
       "      <th>HI</th>\n",
       "      <td>3.553071e+05</td>\n",
       "      <td>6.883196e+05</td>\n",
       "    </tr>\n",
       "    <tr>\n",
       "      <th>IA</th>\n",
       "      <td>4.585081e+05</td>\n",
       "      <td>1.249215e+06</td>\n",
       "    </tr>\n",
       "    <tr>\n",
       "      <th>ID</th>\n",
       "      <td>3.317099e+05</td>\n",
       "      <td>7.138724e+05</td>\n",
       "    </tr>\n",
       "    <tr>\n",
       "      <th>IL</th>\n",
       "      <td>2.339493e+06</td>\n",
       "      <td>6.073213e+06</td>\n",
       "    </tr>\n",
       "    <tr>\n",
       "      <th>IN</th>\n",
       "      <td>1.579586e+06</td>\n",
       "      <td>3.268952e+06</td>\n",
       "    </tr>\n",
       "    <tr>\n",
       "      <th>KS</th>\n",
       "      <td>5.894758e+05</td>\n",
       "      <td>1.445895e+06</td>\n",
       "    </tr>\n",
       "    <tr>\n",
       "      <th>KY</th>\n",
       "      <td>7.181498e+05</td>\n",
       "      <td>1.609067e+06</td>\n",
       "    </tr>\n",
       "    <tr>\n",
       "      <th>LA</th>\n",
       "      <td>1.059908e+06</td>\n",
       "      <td>2.187185e+06</td>\n",
       "    </tr>\n",
       "    <tr>\n",
       "      <th>MA</th>\n",
       "      <td>1.830604e+06</td>\n",
       "      <td>3.791606e+06</td>\n",
       "    </tr>\n",
       "    <tr>\n",
       "      <th>MD</th>\n",
       "      <td>1.292161e+06</td>\n",
       "      <td>3.132537e+06</td>\n",
       "    </tr>\n",
       "    <tr>\n",
       "      <th>ME</th>\n",
       "      <td>1.508012e+05</td>\n",
       "      <td>2.988779e+05</td>\n",
       "    </tr>\n",
       "    <tr>\n",
       "      <th>MI</th>\n",
       "      <td>2.166297e+06</td>\n",
       "      <td>4.968420e+06</td>\n",
       "    </tr>\n",
       "    <tr>\n",
       "      <th>MN</th>\n",
       "      <td>1.674955e+05</td>\n",
       "      <td>3.081373e+05</td>\n",
       "    </tr>\n",
       "  </tbody>\n",
       "</table>\n",
       "</div>"
      ],
      "text/plain": [
       "               pop_cnt_1   pop_cnt_1_2\n",
       "state_abbr                            \n",
       "AK          1.642450e+05  3.173623e+05\n",
       "AL          1.042435e+06  1.991380e+06\n",
       "AR          5.335168e+05  1.130721e+06\n",
       "AZ          1.435067e+06  3.623494e+06\n",
       "CA          4.821254e+06  1.673535e+07\n",
       "CO          1.023537e+06  2.762702e+06\n",
       "CT          1.065111e+06  2.124171e+06\n",
       "DC          1.274941e+04  1.618841e+05\n",
       "DE          2.283973e+05  5.010732e+05\n",
       "FL          4.709992e+06  1.107705e+07\n",
       "GA          2.885961e+06  5.337548e+06\n",
       "HI          3.553071e+05  6.883196e+05\n",
       "IA          4.585081e+05  1.249215e+06\n",
       "ID          3.317099e+05  7.138724e+05\n",
       "IL          2.339493e+06  6.073213e+06\n",
       "IN          1.579586e+06  3.268952e+06\n",
       "KS          5.894758e+05  1.445895e+06\n",
       "KY          7.181498e+05  1.609067e+06\n",
       "LA          1.059908e+06  2.187185e+06\n",
       "MA          1.830604e+06  3.791606e+06\n",
       "MD          1.292161e+06  3.132537e+06\n",
       "ME          1.508012e+05  2.988779e+05\n",
       "MI          2.166297e+06  4.968420e+06\n",
       "MN          1.674955e+05  3.081373e+05"
      ]
     },
     "execution_count": 28,
     "metadata": {},
     "output_type": "execute_result"
    }
   ],
   "source": [
    "# correlation between distance from grocery store\n",
    "# grouping number of counties x amount of distance from a grocery store\n",
    "fd = urban_data[['state_abbr', 'la_population_1/2', 'la_population_1', 'total_population']]\n",
    "# fd = fd[fd.li_la_tracts_1_and_10_mile != 0]\n",
    "fd_totals = fd.groupby(['state_abbr']).agg(pop_cnt_1=('la_population_1', 'sum'), pop_cnt_1_2=('la_population_1/2', 'sum'))\n",
    "fd_totals"
   ]
  },
  {
   "cell_type": "code",
   "execution_count": 29,
   "id": "d2c45e67",
   "metadata": {},
   "outputs": [
    {
     "data": {
      "text/plain": [
       "<AxesSubplot:xlabel='state_abbr'>"
      ]
     },
     "execution_count": 29,
     "metadata": {},
     "output_type": "execute_result"
    },
    {
     "data": {
      "image/png": "[encoded data removed]",
      "text/plain": [
       "<Figure size 432x288 with 1 Axes>"
      ]
     },
     "metadata": {
      "needs_background": "light"
     },
     "output_type": "display_data"
    }
   ],
   "source": [
    "fd_totals.plot.bar()"
   ]
  },
  {
   "cell_type": "code",
   "execution_count": null,
   "id": "63eecf14",
   "metadata": {},
   "outputs": [],
   "source": []
  }
 ],
 "metadata": {
  "kernelspec": {
   "display_name": "Python 3",
   "language": "python",
   "name": "python3"
  },
  "language_info": {
   "codemirror_mode": {
    "name": "ipython",
    "version": 3
   },
   "file_extension": ".py",
   "mimetype": "text/x-python",
   "name": "python",
   "nbconvert_exporter": "python",
   "pygments_lexer": "ipython3",
   "version": "3.8.8"
  }
 },
 "nbformat": 4,
 "nbformat_minor": 5
}
