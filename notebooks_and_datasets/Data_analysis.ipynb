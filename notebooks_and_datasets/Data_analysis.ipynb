{
 "cells": [
  {
   "cell_type": "code",
   "execution_count": 24,
   "id": "f779c22f",
   "metadata": {},
   "outputs": [
    {
     "name": "stdout",
     "output_type": "stream",
     "text": [
      "California Santa Clara 363\n",
      "Georgia Fulton 202\n",
      "California Los Angeles 2286\n",
      "Wisconsin Milwaukee 296\n",
      "Massachusetts Suffolk 195\n",
      "Minnesota Hennepin 293\n",
      "Missouri St. Louis 198\n",
      "Washington King 375\n",
      "Texas Dallas 519\n",
      "Texas Harris 765\n",
      "Florida Miami-Dade 505\n",
      "Illinois Cook 1312\n",
      "Colorado Denver 143\n",
      "District of Columbia District of Columbia 178\n",
      "New York New York 281\n",
      "New York Queens 646\n",
      "New York Bronx 333\n",
      "New York Kings 748\n",
      "New York Richmond 108\n"
     ]
    }
   ],
   "source": [
    "import os \n",
    "import collections as col\n",
    "import pandas as pd\n",
    "\n",
    "df = pd.read_csv('Master Dataset.csv')\n",
    "df['statecounty'] = df['state'] + ' ' + df['county']\n",
    "\n",
    "county_count = col.Counter(df['statecounty'])\n",
    "\n",
    "counties = ['California Santa Clara', 'Georgia Fulton', 'California Los Angeles', 'Wisconsin Milwaukee', 'Massachusetts Suffolk', 'Minnesota Hennepin', 'Missouri St. Louis', 'Washington King', 'Texas Dallas', 'Texas Harris', 'Florida Miami-Dade', 'Illinois Cook', 'Colorado Denver', 'District of Columbia District of Columbia', 'New York New York', 'New York Queens','New York Bronx', 'New York Kings', 'New York Richmond']\n",
    "\n",
    "for cnty in counties:\n",
    "    print(cnty, county_count[cnty])\n",
    "\n",
    "    # California Los Angeles 2286\n",
    "    # New York ALL BOROUGHS 2116 (New York New York 281, New York Queens 646, New York Bronx 333, New York Kings 748, New York Richmond 108)\n",
    "    # Illinois Cook 1312\n",
    "    # Texas Harris 765\n",
    "    # Texas Dallas 519 (EXCL)\n",
    "    # Florida Miami-Dade 505\n",
    "    # Washington King 375\n",
    "    # ---------STOP HERE------------\n",
    "    # California Santa Clara 363\n",
    "    # Wisconsin Milwaukee 296\n",
    "    # Minnesota Hennepin 293\n",
    "    # Georgia Fulton 202\n",
    "    # Missouri St. Louis 198\n",
    "    # Massachusetts Suffolk 195\n",
    "    # District of Columbia District of Columbia 178\n",
    "    # Colorado Denver 143\n"
   ]
  },
  {
   "cell_type": "code",
   "execution_count": null,
   "id": "2153220a",
   "metadata": {},
   "outputs": [],
   "source": []
  }
 ],
 "metadata": {
  "kernelspec": {
   "display_name": "Python 3",
   "language": "python",
   "name": "python3"
  },
  "language_info": {
   "codemirror_mode": {
    "name": "ipython",
    "version": 3
   },
   "file_extension": ".py",
   "mimetype": "text/x-python",
   "name": "python",
   "nbconvert_exporter": "python",
   "pygments_lexer": "ipython3",
   "version": "3.8.8"
  }
 },
 "nbformat": 4,
 "nbformat_minor": 5
}
