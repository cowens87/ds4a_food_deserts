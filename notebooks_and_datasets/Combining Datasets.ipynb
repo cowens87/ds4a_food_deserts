{
 "cells": [
  {
   "cell_type": "code",
   "execution_count": 1,
   "id": "42b1e105",
   "metadata": {},
   "outputs": [],
   "source": [
    "import json\n",
    "import pandas as pd\n",
    "import matplotlib.pyplot as plt\n",
    "import numpy as np\n",
    "import base64\n",
    "import seaborn               as sns\n",
    "import folium  #needed for interactive map\n",
    "from folium.plugins import HeatMap\n",
    "%matplotlib inline\n",
    "sns.set()\n",
    "from sklearn.linear_model import LinearRegression"
   ]
  },
  {
   "cell_type": "code",
   "execution_count": 2,
   "id": "c2a963b2",
   "metadata": {},
   "outputs": [],
   "source": [
    "#opening the data file (Food Deserts)\n",
    "\n",
    "with open('Data/Cleaned Food Desert Data.csv') as f:\n",
    "    df = pd.read_csv(f)\n",
    "    \n",
    "    \n",
    "#opening second the data file (Health Outcomes)\n",
    "\n",
    "with open('Data/Cleaned Health Outcomes Data.csv') as g:\n",
    "    df2 = pd.read_csv(g)"
   ]
  },
  {
   "cell_type": "markdown",
   "id": "576e3390",
   "metadata": {},
   "source": [
    " "
   ]
  },
  {
   "cell_type": "markdown",
   "id": "08478e04",
   "metadata": {},
   "source": [
    " "
   ]
  },
  {
   "cell_type": "code",
   "execution_count": 3,
   "id": "57d58928",
   "metadata": {},
   "outputs": [],
   "source": [
    "#Renaming the census tract Identifier column in the health dataset in order to merge\n",
    "df2 = df2.rename(columns={\"tract_fips\": \"census_tract\"})"
   ]
  },
  {
   "cell_type": "markdown",
   "id": "4ea40a29",
   "metadata": {},
   "source": [
    " "
   ]
  },
  {
   "cell_type": "code",
   "execution_count": 4,
   "id": "5dc5fe46",
   "metadata": {},
   "outputs": [],
   "source": [
    "#CREATING OUR COMBINED DATASET \"cdf\"\n",
    "cdf = pd.merge(df, df2, on=\"census_tract\")"
   ]
  },
  {
   "cell_type": "code",
   "execution_count": 5,
   "id": "f1ea697d",
   "metadata": {},
   "outputs": [
    {
     "name": "stdout",
     "output_type": "stream",
     "text": [
      "   census_tract    state   county  urban  population_2010  \\\n",
      "0    1001020100  Alabama  Autauga      1             1912   \n",
      "1    1001020200  Alabama  Autauga      1             2170   \n",
      "2    1001020300  Alabama  Autauga      1             3373   \n",
      "3    1001020400  Alabama  Autauga      1             4386   \n",
      "4    1001020500  Alabama  Autauga      1            10766   \n",
      "\n",
      "   occupied_housing_units_2010  li_la_tracts_1_and_10_mile  \\\n",
      "0                          693                           0   \n",
      "1                          743                           0   \n",
      "2                         1256                           0   \n",
      "3                         1722                           0   \n",
      "4                         4082                           0   \n",
      "\n",
      "   li_la_tracts_1/2_and_10_mile  li_la_tracts_1_and_20_mile  \\\n",
      "0                             0                           0   \n",
      "1                             0                           0   \n",
      "2                             0                           0   \n",
      "3                             0                           0   \n",
      "4                             0                           0   \n",
      "\n",
      "   li_la_tracts_vehicle  ...  tract_hu_nv  tract_snap  state_abbr  \\\n",
      "0                     0  ...           26         112          AL   \n",
      "1                     0  ...           87         202          AL   \n",
      "2                     0  ...          108         120          AL   \n",
      "3                     0  ...           19          82          AL   \n",
      "4                     0  ...          198         488          AL   \n",
      "\n",
      "   county_name  county_fips  total_population  diabetes_crude95ci  \\\n",
      "0      Autauga         1001              1912        (10.5, 12.1)   \n",
      "1      Autauga         1001              2170        (13.4, 15.0)   \n",
      "2      Autauga         1001              3373        (11.1, 12.5)   \n",
      "3      Autauga         1001              4386        (10.0, 11.7)   \n",
      "4      Autauga         1001             10766        ( 8.5,  9.9)   \n",
      "\n",
      "   diabetes_crude_prev  longitude   latitude  \n",
      "0                 11.3 -86.490015  32.477183  \n",
      "1                 14.2 -86.473389  32.474253  \n",
      "2                 11.8 -86.460202  32.475436  \n",
      "3                 10.8 -86.443704  32.472040  \n",
      "4                  9.2 -86.422710  32.458916  \n",
      "\n",
      "[5 rows x 146 columns]\n",
      "(70313, 146)\n"
     ]
    }
   ],
   "source": [
    "#printing the head and shape of the combined dataset\n",
    "print(cdf.head())\n",
    "print(cdf.shape)"
   ]
  },
  {
   "cell_type": "code",
   "execution_count": 6,
   "id": "856905d5",
   "metadata": {},
   "outputs": [
    {
     "data": {
      "text/plain": [
       "urban  urban\n",
       "1      1        53182\n",
       "Name: urban, dtype: int64"
      ]
     },
     "execution_count": 6,
     "metadata": {},
     "output_type": "execute_result"
    }
   ],
   "source": [
    "#Removing non-urban tracts: creating a series of the non-urban tracts\n",
    "non_urban = cdf.index[cdf['urban'] == 0]\n",
    "\n",
    "#making the series a list, dropping the list form 'cdf'\n",
    "non_urban_list = non_urban.tolist()\n",
    "cdf = cdf.drop(cdf.index[non_urban_list])\n",
    "\n",
    "#printing the different groups in the \"urban\" column to confirm it's only urban tracts\n",
    "cdf['urban'].groupby(cdf['urban']).value_counts()"
   ]
  },
  {
   "cell_type": "markdown",
   "id": "5809808c",
   "metadata": {},
   "source": [
    " "
   ]
  },
  {
   "cell_type": "markdown",
   "id": "527bd27e",
   "metadata": {},
   "source": [
    " "
   ]
  },
  {
   "cell_type": "markdown",
   "id": "e88a0bab",
   "metadata": {},
   "source": [
    "**What data we're keeping:**\n",
    "state_abbr = State abbreviation\n",
    "\n",
    "county_fips = 5 digit zip code\n",
    "\n",
    "total_population = 2010 census population count\n",
    "\n",
    "census_tract = Census tract FIPS code\n",
    "\n",
    "diabetes_crude_prev = Model-based estimate for crude prevalence of diagnosed diabetes among adults aged >=18 years, 2019\n",
    "\n",
    "diabetes_crude95cI = Estimated confidence interval for crude prevalence of diagnosed diabetes among adults aged >=18 year\n",
    "\n",
    "geolocation = Latitude, longitude of city centroid\n",
    "\n",
    "occupied_housing_units_2010 = The count of occupied housing units in the tract as of 2010\n",
    "\n",
    "_____\n",
    "\n",
    "Multiple flag variables idenitfying tracts as low-income (li), low-access (la), or both.\n",
    "\n",
    "Multiple variables for the counts and shares of low-income and low-access populations by distance (e.g. la_pop_1 is low access population count at 1 mile)\n",
    "\n",
    "Multiple variables for the counts and shares of the low-access population by race by distance (e.g. la_black_1 and la_black_1_share are the population count and share of the low-access black population at 1 mile).\n",
    "\n",
    "\n",
    "Multiple variables for the counts andd shares of the housing units without vehicles which would be considered low-access by distance (e.g. lahunv10 would be Housing units without vehicle count beyond 10 miles from supermarket.\n",
    "\n",
    "Multiple measures for weatlh (e.g. Poverty rate, Median Family income)\n",
    "\n",
    "\n",
    "___\n",
    "**What data we're dropping:**\n",
    "Multiple variables relating to measures beyonnd a 20 mile marker since these are used to track non-urban tracts which we have dropped to focus on urban tracts. \n",
    "\n",
    "Multiple variables for the counts and shares of the low-access kid and senior population by distance."
   ]
  },
  {
   "cell_type": "code",
   "execution_count": 7,
   "id": "b4f61b7e",
   "metadata": {},
   "outputs": [],
   "source": [
    "#checking shape of dataframe before dropping unnecessary variables\n",
    "cdf.shape\n",
    "\n",
    "# Removing the columns we no longer need\n",
    "cdf = cdf.drop(columns=['li_la_tracts_1_and_20_mile',\n",
    "                  'low_access_1_and_20_mile',\n",
    "                  'low_access_tracts_20_mile',\n",
    "                  'la_tracts_vehicle_20_mile',\n",
    "                  'la_population_1_and_20',\n",
    "                  'la_low_income_1_and_20',\n",
    "                  'la_kids_1/2',\n",
    "                  'la_kids_1/2_share',\n",
    "                  'la_seniors_1/2',\n",
    "                  'la_seniros_1/2_share',\n",
    "                  'la_kids_10',\n",
    "                  'la_kids_10_share',\n",
    "                  'la_seniros_10',\n",
    "                  'la_seniors_10_share',\n",
    "                  'la_population_20',\n",
    "                  'la_population_20_share',\n",
    "                  'la_low_income_20',\n",
    "                  'la_low_income_20_share',\n",
    "                  'la_kids_20',\n",
    "                  'la_kids_20_share',\n",
    "                  'la_seniors_20',\n",
    "                  ';a_seniros_20_share',\n",
    "                  'la_white_20',\n",
    "                  'la_white_20_share',\n",
    "                  'la_black_20',\n",
    "                  'la_black_20_share',\n",
    "                  'la_asian_20',\n",
    "                  'la_asian_20_share',\n",
    "                  'la_nhopi_20',\n",
    "                  'la_nhopi_share',\n",
    "                  'la_aian_20',\n",
    "                  'la_aian_20_share',\n",
    "                  'la_multi_race_20',\n",
    "                  'la_multi_race_20_share',\n",
    "                  'la_hisp_20',\n",
    "                  'la_hisp_20_share',\n",
    "                  'la_hu_nv_20',\n",
    "                  'la_hu_nv_20_share',\n",
    "                  'la_snap_20',\n",
    "                  'la_snap_20_share',])\n"
   ]
  },
  {
   "cell_type": "code",
   "execution_count": 8,
   "id": "7c1b6d78",
   "metadata": {},
   "outputs": [
    {
     "data": {
      "text/plain": [
       "(53182, 106)"
      ]
     },
     "execution_count": 8,
     "metadata": {},
     "output_type": "execute_result"
    }
   ],
   "source": [
    "#checking to make sure it worked\n",
    "cdf.shape"
   ]
  },
  {
   "cell_type": "code",
   "execution_count": 9,
   "id": "9f753f9f",
   "metadata": {},
   "outputs": [],
   "source": [
    " #EXPORTING THE CLEANED COMBINED DATASET FOR FRONT END PURPOSES\n",
    "cdf.to_csv('Master Dataset.csv', index= False)"
   ]
  }
 ],
 "metadata": {
  "kernelspec": {
   "display_name": "Python 3",
   "language": "python",
   "name": "python3"
  },
  "language_info": {
   "codemirror_mode": {
    "name": "ipython",
    "version": 3
   },
   "file_extension": ".py",
   "mimetype": "text/x-python",
   "name": "python",
   "nbconvert_exporter": "python",
   "pygments_lexer": "ipython3",
   "version": "3.8.8"
  }
 },
 "nbformat": 4,
 "nbformat_minor": 5
}
